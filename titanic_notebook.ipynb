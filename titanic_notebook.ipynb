{
  "nbformat": 4,
  "nbformat_minor": 0,
  "metadata": {
    "colab": {
      "provenance": []
    },
    "kernelspec": {
      "name": "python3",
      "display_name": "Python 3"
    },
    "language_info": {
      "name": "python"
    }
  },
  "cells": [
    {
      "cell_type": "markdown",
      "source": [
        "## Step 1: Importing all required libraries\n"
      ],
      "metadata": {
        "id": "aCy8UdHl3RoM"
      }
    },
    {
      "cell_type": "code",
      "execution_count": 11,
      "metadata": {
        "id": "bV2PKozQzhTf"
      },
      "outputs": [],
      "source": [
        "import pandas as pd\n",
        "import numpy as np\n",
        "import seaborn as sns\n",
        "import matplotlib.pyplot as plt\n",
        "from sklearn.model_selection import train_test_split\n",
        "from sklearn.preprocessing import LabelEncoder\n",
        "from sklearn.impute import SimpleImputer\n",
        "from sklearn.linear_model import LogisticRegression\n",
        "from sklearn.ensemble import RandomForestClassifier\n",
        "from sklearn.metrics import accuracy_score, classification_report, confusion_matrix\n"
      ]
    },
    {
      "cell_type": "markdown",
      "source": [
        "## Step 2: Load & Inspect the Data"
      ],
      "metadata": {
        "id": "3ijOEBnw3cVd"
      }
    },
    {
      "cell_type": "code",
      "source": [
        "# Pclass\n",
        "\n",
        "# Load the Titanic training and test datasets\n",
        "train = pd.read_csv(\"/content/titanic/train.csv\")\n",
        "test = pd.read_csv(\"/content/titanic/test.csv\")\n",
        "\n",
        "# Display the first few rows\n",
        "train.head()\n",
        "\n",
        "# Show data types\n",
        "train.info()\n",
        "\n",
        "# Summary statistics\n",
        "train.describe()\n",
        "\n",
        "\n",
        "# Check for missing values\n",
        "train.isnull().sum()\n"
      ],
      "metadata": {
        "id": "0SffhYei3b9w",
        "colab": {
          "base_uri": "https://localhost:8080/",
          "height": 790
        },
        "outputId": "edc074e5-f872-445e-d94f-90aa12a88e2e"
      },
      "execution_count": 12,
      "outputs": [
        {
          "output_type": "stream",
          "name": "stdout",
          "text": [
            "<class 'pandas.core.frame.DataFrame'>\n",
            "RangeIndex: 891 entries, 0 to 890\n",
            "Data columns (total 12 columns):\n",
            " #   Column       Non-Null Count  Dtype  \n",
            "---  ------       --------------  -----  \n",
            " 0   PassengerId  891 non-null    int64  \n",
            " 1   Survived     891 non-null    int64  \n",
            " 2   Pclass       891 non-null    int64  \n",
            " 3   Name         891 non-null    object \n",
            " 4   Sex          891 non-null    object \n",
            " 5   Age          714 non-null    float64\n",
            " 6   SibSp        891 non-null    int64  \n",
            " 7   Parch        891 non-null    int64  \n",
            " 8   Ticket       891 non-null    object \n",
            " 9   Fare         891 non-null    float64\n",
            " 10  Cabin        204 non-null    object \n",
            " 11  Embarked     889 non-null    object \n",
            "dtypes: float64(2), int64(5), object(5)\n",
            "memory usage: 83.7+ KB\n"
          ]
        },
        {
          "output_type": "execute_result",
          "data": {
            "text/plain": [
              "PassengerId      0\n",
              "Survived         0\n",
              "Pclass           0\n",
              "Name             0\n",
              "Sex              0\n",
              "Age            177\n",
              "SibSp            0\n",
              "Parch            0\n",
              "Ticket           0\n",
              "Fare             0\n",
              "Cabin          687\n",
              "Embarked         2\n",
              "dtype: int64"
            ],
            "text/html": [
              "<div>\n",
              "<style scoped>\n",
              "    .dataframe tbody tr th:only-of-type {\n",
              "        vertical-align: middle;\n",
              "    }\n",
              "\n",
              "    .dataframe tbody tr th {\n",
              "        vertical-align: top;\n",
              "    }\n",
              "\n",
              "    .dataframe thead th {\n",
              "        text-align: right;\n",
              "    }\n",
              "</style>\n",
              "<table border=\"1\" class=\"dataframe\">\n",
              "  <thead>\n",
              "    <tr style=\"text-align: right;\">\n",
              "      <th></th>\n",
              "      <th>0</th>\n",
              "    </tr>\n",
              "  </thead>\n",
              "  <tbody>\n",
              "    <tr>\n",
              "      <th>PassengerId</th>\n",
              "      <td>0</td>\n",
              "    </tr>\n",
              "    <tr>\n",
              "      <th>Survived</th>\n",
              "      <td>0</td>\n",
              "    </tr>\n",
              "    <tr>\n",
              "      <th>Pclass</th>\n",
              "      <td>0</td>\n",
              "    </tr>\n",
              "    <tr>\n",
              "      <th>Name</th>\n",
              "      <td>0</td>\n",
              "    </tr>\n",
              "    <tr>\n",
              "      <th>Sex</th>\n",
              "      <td>0</td>\n",
              "    </tr>\n",
              "    <tr>\n",
              "      <th>Age</th>\n",
              "      <td>177</td>\n",
              "    </tr>\n",
              "    <tr>\n",
              "      <th>SibSp</th>\n",
              "      <td>0</td>\n",
              "    </tr>\n",
              "    <tr>\n",
              "      <th>Parch</th>\n",
              "      <td>0</td>\n",
              "    </tr>\n",
              "    <tr>\n",
              "      <th>Ticket</th>\n",
              "      <td>0</td>\n",
              "    </tr>\n",
              "    <tr>\n",
              "      <th>Fare</th>\n",
              "      <td>0</td>\n",
              "    </tr>\n",
              "    <tr>\n",
              "      <th>Cabin</th>\n",
              "      <td>687</td>\n",
              "    </tr>\n",
              "    <tr>\n",
              "      <th>Embarked</th>\n",
              "      <td>2</td>\n",
              "    </tr>\n",
              "  </tbody>\n",
              "</table>\n",
              "</div><br><label><b>dtype:</b> int64</label>"
            ]
          },
          "metadata": {},
          "execution_count": 12
        }
      ]
    },
    {
      "cell_type": "markdown",
      "source": [
        "## Step 3: EDA Step"
      ],
      "metadata": {
        "id": "i_QEaNtQ4ZWm"
      }
    },
    {
      "cell_type": "code",
      "source": [
        "# Load training data\n",
        "train = pd.read_csv('/content/titanic/train.csv')\n",
        "# 0 = Did not survive (No)\n",
        "# 1 = Did survive (Yes)\n",
        "\n",
        "# Survived count\n",
        "sns.countplot(x=\"Survived\", data=train)\n",
        "plt.title(\"Survival Count\")\n",
        "plt.xlabel(\"Survived\")\n",
        "plt.ylabel(\"Count\")\n",
        "plt.show()\n",
        "\n",
        "# Pclass vs Survived\n",
        "sns.countplot(x=\"Pclass\", hue=\"Survived\", data=train)\n",
        "plt.title(\"Pclass vs Survival\")\n",
        "plt.xlabel(\"Passenger Class\")\n",
        "plt.ylabel(\"Count\")\n",
        "plt.show()\n",
        "\n",
        "# Sex vs Survived\n",
        "sns.countplot(x=\"Sex\", hue=\"Survived\", data=train)\n",
        "plt.title(\"Gender vs Survival\")\n",
        "plt.xlabel(\"Sex\")\n",
        "plt.ylabel(\"Count\")\n",
        "plt.show()\n",
        "\n",
        "# Age distribution with KDE\n",
        "sns.histplot(data=train, x=\"Age\", hue=\"Survived\", kde=True, bins=30)\n",
        "plt.title(\"Age Distribution by Survival\")\n",
        "plt.xlabel(\"Age\")\n",
        "plt.ylabel(\"Count\")\n",
        "plt.show()\n",
        "\n",
        "\n"
      ],
      "metadata": {
        "id": "ASUR_0Ld4cHH",
        "colab": {
          "base_uri": "https://localhost:8080/",
          "height": 1000
        },
        "outputId": "c7bb23b9-831d-442f-c86a-859bb4ed88f0"
      },
      "execution_count": 13,
      "outputs": [
        {
          "output_type": "display_data",
          "data": {
            "text/plain": [
              "<Figure size 640x480 with 1 Axes>"
            ],
            "image/png": "[encoded data removed]"
          },
          "metadata": {}
        },
        {
          "output_type": "display_data",
          "data": {
            "text/plain": [
              "<Figure size 640x480 with 1 Axes>"
            ],
            "image/png": "[encoded data removed]"
          },
          "metadata": {}
        },
        {
          "output_type": "display_data",
          "data": {
            "text/plain": [
              "<Figure size 640x480 with 1 Axes>"
            ],
            "image/png": "[encoded data removed]"
          },
          "metadata": {}
        },
        {
          "output_type": "display_data",
          "data": {
            "text/plain": [
              "<Figure size 640x480 with 1 Axes>"
            ],
            "image/png": "[encoded data removed]"
          },
          "metadata": {}
        }
      ]
    },
    {
      "cell_type": "markdown",
      "source": [
        "## Step 4: Data Preprocessing"
      ],
      "metadata": {
        "id": "0r-_w3Ml6Gtb"
      }
    },
    {
      "cell_type": "code",
      "source": [
        "# Age = median, Embarked = mode\n",
        "# Fill missing values\n",
        "train['Age'] = train['Age'].fillna(train['Age'].median())\n",
        "train['Embarked'] = train['Embarked'].fillna(train['Embarked'].mode()[0])\n",
        "\n",
        "# Label encoder to convert categorical text to numeric values\n",
        "from sklearn.preprocessing import LabelEncoder\n",
        "\n",
        "# Initialize and fit a label encoder for the 'Sex' column\n",
        "# This will convert 'male' to 1 and 'female' to 0\n",
        "le_sex = LabelEncoder()\n",
        "le_sex.fit(['male', 'female'])\n",
        "\n",
        "# Initialize and fit a label encoder for the 'Embarked' column\n",
        "# C = Cherbourg, Q = Queenstown, S = Southampton\n",
        "le_embarked = LabelEncoder()\n",
        "le_embarked.fit(['C', 'Q', 'S'])\n",
        "\n",
        "\n",
        "# Apply encoding to the 'Sex' column\n",
        "train['Sex'] = le_sex.fit_transform(train['Sex'])\n",
        "\n",
        "# Apply encoding to the 'Embarked' column\n",
        "train['Embarked'] = le_embarked.fit_transform(train['Embarked'])\n",
        "\n",
        "# Drop unused/unuseful columns\n",
        "columns_to_drop = ['Name', 'Ticket', 'Cabin', 'PassengerId']\n",
        "train = train.drop(columns=[col for col in columns_to_drop if col in train.columns])\n",
        "print(train.columns)\n",
        "\n",
        "\n",
        "\n"
      ],
      "metadata": {
        "id": "tBDIfFCb6J25",
        "colab": {
          "base_uri": "https://localhost:8080/"
        },
        "outputId": "07ad7dd2-ebbe-4b6c-e8fa-70e8911896c0"
      },
      "execution_count": 14,
      "outputs": [
        {
          "output_type": "stream",
          "name": "stdout",
          "text": [
            "Index(['Survived', 'Pclass', 'Sex', 'Age', 'SibSp', 'Parch', 'Fare',\n",
            "       'Embarked'],\n",
            "      dtype='object')\n"
          ]
        }
      ]
    },
    {
      "cell_type": "markdown",
      "source": [
        "## Step 5: Train/Test"
      ],
      "metadata": {
        "id": "FeNJurr-7FS1"
      }
    },
    {
      "cell_type": "code",
      "source": [
        "# Separate features (X) and target variable (y)\n",
        "# 'Survived' is what we want to predict, so we remove it from the feature set\n",
        "X = train.drop(\"Survived\", axis=1)\n",
        "y = train[\"Survived\"]\n",
        "\n",
        "# Split the data into training and validation sets\n",
        "# 80% of the data will be used for training, 20% for validation\n",
        "# random_state ensures reproducibility\n",
        "X_train, X_val, y_train, y_val = train_test_split(X, y, test_size=0.2, random_state=42)\n"
      ],
      "metadata": {
        "id": "YED8gL4a7HC1"
      },
      "execution_count": 15,
      "outputs": []
    },
    {
      "cell_type": "markdown",
      "source": [
        "## Step 6: Training 1st model: Logistic Regression"
      ],
      "metadata": {
        "id": "9MitOygE7KxF"
      }
    },
    {
      "cell_type": "code",
      "source": [
        "# Initialize the Logistic Regression model\n",
        "# max_iter=1000 ensures convergence during training\n",
        "logreg = LogisticRegression(max_iter=1000)\n",
        "\n",
        "# Train the model on the training data\n",
        "logreg.fit(X_train, y_train)\n",
        "\n",
        "# Predict survival on the validation set\n",
        "y_pred_log = logreg.predict(X_val)\n",
        "\n",
        "# Print the accuracy score of the logistic regression model\n",
        "print(\"Logistic Regression Accuracy:\", accuracy_score(y_val, y_pred_log))\n",
        "\n",
        "# Print a detailed classification report (precision, recall, F1-score)\n",
        "print(classification_report(y_val, y_pred_log))\n"
      ],
      "metadata": {
        "id": "OOhV7ndc7OOb",
        "colab": {
          "base_uri": "https://localhost:8080/"
        },
        "outputId": "b9a6611a-2bfa-4fdf-cc66-07305bace9ba"
      },
      "execution_count": 16,
      "outputs": [
        {
          "output_type": "stream",
          "name": "stdout",
          "text": [
            "Logistic Regression Accuracy: 0.8100558659217877\n",
            "              precision    recall  f1-score   support\n",
            "\n",
            "           0       0.83      0.86      0.84       105\n",
            "           1       0.79      0.74      0.76        74\n",
            "\n",
            "    accuracy                           0.81       179\n",
            "   macro avg       0.81      0.80      0.80       179\n",
            "weighted avg       0.81      0.81      0.81       179\n",
            "\n"
          ]
        }
      ]
    },
    {
      "cell_type": "markdown",
      "source": [
        "## Step 7: Training 2nd model: Random Forest"
      ],
      "metadata": {
        "id": "b3okS9ow7Rfu"
      }
    },
    {
      "cell_type": "code",
      "source": [
        "# Initialize the Random Forest model\n",
        "# n_estimators=100 means the model will use 100 decision trees\n",
        "# random_state ensures reproducibility of results\n",
        "rf = RandomForestClassifier(n_estimators=100, random_state=42)\n",
        "\n",
        "# Train the Random Forest model on the training data\n",
        "rf.fit(X_train, y_train)\n",
        "\n",
        "# Predict survival on the validation set\n",
        "y_pred_rf = rf.predict(X_val)\n",
        "\n",
        "# Print the accuracy score of the Random Forest model\n",
        "print(\"Random Forest Accuracy:\", accuracy_score(y_val, y_pred_rf))\n",
        "\n",
        "# Print classification metrics (precision, recall, F1-score)\n",
        "print(classification_report(y_val, y_pred_rf))\n"
      ],
      "metadata": {
        "id": "0lOhXXwi7UKN",
        "colab": {
          "base_uri": "https://localhost:8080/"
        },
        "outputId": "2427f1a6-7364-4dcd-d640-45a0f8c7932a"
      },
      "execution_count": 17,
      "outputs": [
        {
          "output_type": "stream",
          "name": "stdout",
          "text": [
            "Random Forest Accuracy: 0.8212290502793296\n",
            "              precision    recall  f1-score   support\n",
            "\n",
            "           0       0.83      0.88      0.85       105\n",
            "           1       0.81      0.74      0.77        74\n",
            "\n",
            "    accuracy                           0.82       179\n",
            "   macro avg       0.82      0.81      0.81       179\n",
            "weighted avg       0.82      0.82      0.82       179\n",
            "\n"
          ]
        }
      ]
    },
    {
      "cell_type": "markdown",
      "source": [
        "## Step 8: Evaluating Results"
      ],
      "metadata": {
        "id": "ajVy6WDL8UH9"
      }
    },
    {
      "cell_type": "code",
      "source": [
        "# Get feature importances from the trained Random Forest model\n",
        "# This shows which features had the most impact on survival prediction\n",
        "importances = rf.feature_importances_\n",
        "\n",
        "# Get the column names\n",
        "features = X.columns\n",
        "\n",
        "# Create a DataFrame to display feature names alongside their importance scores\n",
        "feature_df = pd.DataFrame({'Feature': features, 'Importance': importances})\n",
        "\n",
        "# Sort the features by importance in descending order to highlight the most influential ones\n",
        "feature_df.sort_values(by='Importance', ascending=False)\n"
      ],
      "metadata": {
        "id": "FFPA9CAK8ZUA",
        "colab": {
          "base_uri": "https://localhost:8080/",
          "height": 269
        },
        "outputId": "5eee09ff-03f9-4f98-e595-259ef95dfbc4"
      },
      "execution_count": 18,
      "outputs": [
        {
          "output_type": "execute_result",
          "data": {
            "text/plain": [
              "    Feature  Importance\n",
              "1       Sex    0.271410\n",
              "5      Fare    0.265010\n",
              "2       Age    0.249995\n",
              "0    Pclass    0.086957\n",
              "3     SibSp    0.053685\n",
              "4     Parch    0.039897\n",
              "6  Embarked    0.033044"
            ],
            "text/html": [
              "\n",
              "  <div id=\"df-96ebf0c5-4f5e-4e22-bd09-6b82b5582120\" class=\"colab-df-container\">\n",
              "    <div>\n",
              "<style scoped>\n",
              "    .dataframe tbody tr th:only-of-type {\n",
              "        vertical-align: middle;\n",
              "    }\n",
              "\n",
              "    .dataframe tbody tr th {\n",
              "        vertical-align: top;\n",
              "    }\n",
              "\n",
              "    .dataframe thead th {\n",
              "        text-align: right;\n",
              "    }\n",
              "</style>\n",
              "<table border=\"1\" class=\"dataframe\">\n",
              "  <thead>\n",
              "    <tr style=\"text-align: right;\">\n",
              "      <th></th>\n",
              "      <th>Feature</th>\n",
              "      <th>Importance</th>\n",
              "    </tr>\n",
              "  </thead>\n",
              "  <tbody>\n",
              "    <tr>\n",
              "      <th>1</th>\n",
              "      <td>Sex</td>\n",
              "      <td>0.271410</td>\n",
              "    </tr>\n",
              "    <tr>\n",
              "      <th>5</th>\n",
              "      <td>Fare</td>\n",
              "      <td>0.265010</td>\n",
              "    </tr>\n",
              "    <tr>\n",
              "      <th>2</th>\n",
              "      <td>Age</td>\n",
              "      <td>0.249995</td>\n",
              "    </tr>\n",
              "    <tr>\n",
              "      <th>0</th>\n",
              "      <td>Pclass</td>\n",
              "      <td>0.086957</td>\n",
              "    </tr>\n",
              "    <tr>\n",
              "      <th>3</th>\n",
              "      <td>SibSp</td>\n",
              "      <td>0.053685</td>\n",
              "    </tr>\n",
              "    <tr>\n",
              "      <th>4</th>\n",
              "      <td>Parch</td>\n",
              "      <td>0.039897</td>\n",
              "    </tr>\n",
              "    <tr>\n",
              "      <th>6</th>\n",
              "      <td>Embarked</td>\n",
              "      <td>0.033044</td>\n",
              "    </tr>\n",
              "  </tbody>\n",
              "</table>\n",
              "</div>\n",
              "    <div class=\"colab-df-buttons\">\n",
              "\n",
              "  <div class=\"colab-df-container\">\n",
              "    <button class=\"colab-df-convert\" onclick=\"convertToInteractive('df-96ebf0c5-4f5e-4e22-bd09-6b82b5582120')\"\n",
              "            title=\"Convert this dataframe to an interactive table.\"\n",
              "            style=\"display:none;\">\n",
              "\n",
              "  <svg xmlns=\"http://www.w3.org/2000/svg\" height=\"24px\" viewBox=\"0 -960 960 960\">\n",
              "    <path d=\"M120-120v-720h720v720H120Zm60-500h600v-160H180v160Zm220 220h160v-160H400v160Zm0 220h160v-160H400v160ZM180-400h160v-160H180v160Zm440 0h160v-160H620v160ZM180-180h160v-160H180v160Zm440 0h160v-160H620v160Z\"/>\n",
              "  </svg>\n",
              "    </button>\n",
              "\n",
              "  <style>\n",
              "    .colab-df-container {\n",
              "      display:flex;\n",
              "      gap: 12px;\n",
              "    }\n",
              "\n",
              "    .colab-df-convert {\n",
              "      background-color: #E8F0FE;\n",
              "      border: none;\n",
              "      border-radius: 50%;\n",
              "      cursor: pointer;\n",
              "      display: none;\n",
              "      fill: #1967D2;\n",
              "      height: 32px;\n",
              "      padding: 0 0 0 0;\n",
              "      width: 32px;\n",
              "    }\n",
              "\n",
              "    .colab-df-convert:hover {\n",
              "      background-color: #E2EBFA;\n",
              "      box-shadow: 0px 1px 2px rgba(60, 64, 67, 0.3), 0px 1px 3px 1px rgba(60, 64, 67, 0.15);\n",
              "      fill: #174EA6;\n",
              "    }\n",
              "\n",
              "    .colab-df-buttons div {\n",
              "      margin-bottom: 4px;\n",
              "    }\n",
              "\n",
              "    [theme=dark] .colab-df-convert {\n",
              "      background-color: #3B4455;\n",
              "      fill: #D2E3FC;\n",
              "    }\n",
              "\n",
              "    [theme=dark] .colab-df-convert:hover {\n",
              "      background-color: #434B5C;\n",
              "      box-shadow: 0px 1px 3px 1px rgba(0, 0, 0, 0.15);\n",
              "      filter: drop-shadow(0px 1px 2px rgba(0, 0, 0, 0.3));\n",
              "      fill: #FFFFFF;\n",
              "    }\n",
              "  </style>\n",
              "\n",
              "    <script>\n",
              "      const buttonEl =\n",
              "        document.querySelector('#df-96ebf0c5-4f5e-4e22-bd09-6b82b5582120 button.colab-df-convert');\n",
              "      buttonEl.style.display =\n",
              "        google.colab.kernel.accessAllowed ? 'block' : 'none';\n",
              "\n",
              "      async function convertToInteractive(key) {\n",
              "        const element = document.querySelector('#df-96ebf0c5-4f5e-4e22-bd09-6b82b5582120');\n",
              "        const dataTable =\n",
              "          await google.colab.kernel.invokeFunction('convertToInteractive',\n",
              "                                                    [key], {});\n",
              "        if (!dataTable) return;\n",
              "\n",
              "        const docLinkHtml = 'Like what you see? Visit the ' +\n",
              "          '<a target=\"_blank\" href=https://colab.research.google.com/notebooks/data_table.ipynb>data table notebook</a>'\n",
              "          + ' to learn more about interactive tables.';\n",
              "        element.innerHTML = '';\n",
              "        dataTable['output_type'] = 'display_data';\n",
              "        await google.colab.output.renderOutput(dataTable, element);\n",
              "        const docLink = document.createElement('div');\n",
              "        docLink.innerHTML = docLinkHtml;\n",
              "        element.appendChild(docLink);\n",
              "      }\n",
              "    </script>\n",
              "  </div>\n",
              "\n",
              "\n",
              "    <div id=\"df-7c702797-3f58-4c50-89c2-d676c45a69cb\">\n",
              "      <button class=\"colab-df-quickchart\" onclick=\"quickchart('df-7c702797-3f58-4c50-89c2-d676c45a69cb')\"\n",
              "                title=\"Suggest charts\"\n",
              "                style=\"display:none;\">\n",
              "\n",
              "<svg xmlns=\"http://www.w3.org/2000/svg\" height=\"24px\"viewBox=\"0 0 24 24\"\n",
              "     width=\"24px\">\n",
              "    <g>\n",
              "        <path d=\"M19 3H5c-1.1 0-2 .9-2 2v14c0 1.1.9 2 2 2h14c1.1 0 2-.9 2-2V5c0-1.1-.9-2-2-2zM9 17H7v-7h2v7zm4 0h-2V7h2v10zm4 0h-2v-4h2v4z\"/>\n",
              "    </g>\n",
              "</svg>\n",
              "      </button>\n",
              "\n",
              "<style>\n",
              "  .colab-df-quickchart {\n",
              "      --bg-color: #E8F0FE;\n",
              "      --fill-color: #1967D2;\n",
              "      --hover-bg-color: #E2EBFA;\n",
              "      --hover-fill-color: #174EA6;\n",
              "      --disabled-fill-color: #AAA;\n",
              "      --disabled-bg-color: #DDD;\n",
              "  }\n",
              "\n",
              "  [theme=dark] .colab-df-quickchart {\n",
              "      --bg-color: #3B4455;\n",
              "      --fill-color: #D2E3FC;\n",
              "      --hover-bg-color: #434B5C;\n",
              "      --hover-fill-color: #FFFFFF;\n",
              "      --disabled-bg-color: #3B4455;\n",
              "      --disabled-fill-color: #666;\n",
              "  }\n",
              "\n",
              "  .colab-df-quickchart {\n",
              "    background-color: var(--bg-color);\n",
              "    border: none;\n",
              "    border-radius: 50%;\n",
              "    cursor: pointer;\n",
              "    display: none;\n",
              "    fill: var(--fill-color);\n",
              "    height: 32px;\n",
              "    padding: 0;\n",
              "    width: 32px;\n",
              "  }\n",
              "\n",
              "  .colab-df-quickchart:hover {\n",
              "    background-color: var(--hover-bg-color);\n",
              "    box-shadow: 0 1px 2px rgba(60, 64, 67, 0.3), 0 1px 3px 1px rgba(60, 64, 67, 0.15);\n",
              "    fill: var(--button-hover-fill-color);\n",
              "  }\n",
              "\n",
              "  .colab-df-quickchart-complete:disabled,\n",
              "  .colab-df-quickchart-complete:disabled:hover {\n",
              "    background-color: var(--disabled-bg-color);\n",
              "    fill: var(--disabled-fill-color);\n",
              "    box-shadow: none;\n",
              "  }\n",
              "\n",
              "  .colab-df-spinner {\n",
              "    border: 2px solid var(--fill-color);\n",
              "    border-color: transparent;\n",
              "    border-bottom-color: var(--fill-color);\n",
              "    animation:\n",
              "      spin 1s steps(1) infinite;\n",
              "  }\n",
              "\n",
              "  @keyframes spin {\n",
              "    0% {\n",
              "      border-color: transparent;\n",
              "      border-bottom-color: var(--fill-color);\n",
              "      border-left-color: var(--fill-color);\n",
              "    }\n",
              "    20% {\n",
              "      border-color: transparent;\n",
              "      border-left-color: var(--fill-color);\n",
              "      border-top-color: var(--fill-color);\n",
              "    }\n",
              "    30% {\n",
              "      border-color: transparent;\n",
              "      border-left-color: var(--fill-color);\n",
              "      border-top-color: var(--fill-color);\n",
              "      border-right-color: var(--fill-color);\n",
              "    }\n",
              "    40% {\n",
              "      border-color: transparent;\n",
              "      border-right-color: var(--fill-color);\n",
              "      border-top-color: var(--fill-color);\n",
              "    }\n",
              "    60% {\n",
              "      border-color: transparent;\n",
              "      border-right-color: var(--fill-color);\n",
              "    }\n",
              "    80% {\n",
              "      border-color: transparent;\n",
              "      border-right-color: var(--fill-color);\n",
              "      border-bottom-color: var(--fill-color);\n",
              "    }\n",
              "    90% {\n",
              "      border-color: transparent;\n",
              "      border-bottom-color: var(--fill-color);\n",
              "    }\n",
              "  }\n",
              "</style>\n",
              "\n",
              "      <script>\n",
              "        async function quickchart(key) {\n",
              "          const quickchartButtonEl =\n",
              "            document.querySelector('#' + key + ' button');\n",
              "          quickchartButtonEl.disabled = true;  // To prevent multiple clicks.\n",
              "          quickchartButtonEl.classList.add('colab-df-spinner');\n",
              "          try {\n",
              "            const charts = await google.colab.kernel.invokeFunction(\n",
              "                'suggestCharts', [key], {});\n",
              "          } catch (error) {\n",
              "            console.error('Error during call to suggestCharts:', error);\n",
              "          }\n",
              "          quickchartButtonEl.classList.remove('colab-df-spinner');\n",
              "          quickchartButtonEl.classList.add('colab-df-quickchart-complete');\n",
              "        }\n",
              "        (() => {\n",
              "          let quickchartButtonEl =\n",
              "            document.querySelector('#df-7c702797-3f58-4c50-89c2-d676c45a69cb button');\n",
              "          quickchartButtonEl.style.display =\n",
              "            google.colab.kernel.accessAllowed ? 'block' : 'none';\n",
              "        })();\n",
              "      </script>\n",
              "    </div>\n",
              "\n",
              "    </div>\n",
              "  </div>\n"
            ],
            "application/vnd.google.colaboratory.intrinsic+json": {
              "type": "dataframe",
              "summary": "{\n  \"name\": \"feature_df\",\n  \"rows\": 7,\n  \"fields\": [\n    {\n      \"column\": \"Feature\",\n      \"properties\": {\n        \"dtype\": \"string\",\n        \"num_unique_values\": 7,\n        \"samples\": [\n          \"Sex\",\n          \"Fare\",\n          \"Parch\"\n        ],\n        \"semantic_type\": \"\",\n        \"description\": \"\"\n      }\n    },\n    {\n      \"column\": \"Importance\",\n      \"properties\": {\n        \"dtype\": \"number\",\n        \"std\": 0.11303533309343185,\n        \"min\": 0.0330442444484796,\n        \"max\": 0.27141040486293694,\n        \"num_unique_values\": 7,\n        \"samples\": [\n          0.27141040486293694,\n          0.2650103090844888,\n          0.03989732652401987\n        ],\n        \"semantic_type\": \"\",\n        \"description\": \"\"\n      }\n    }\n  ]\n}"
            }
          },
          "metadata": {},
          "execution_count": 18
        }
      ]
    },
    {
      "cell_type": "markdown",
      "source": [
        "## Step 9: Predictions on Test Set"
      ],
      "metadata": {
        "id": "HZdZ26tJIFhW"
      }
    },
    {
      "cell_type": "code",
      "source": [
        "# Fill missing values in the test dataset\n",
        "# Replace missing 'Age' values with the median age\n",
        "test['Age'] = test['Age'].fillna(test['Age'].median())\n",
        "\n",
        "# Replace missing 'Fare' values with the median fare\n",
        "test['Fare'] = test['Fare'].fillna(test['Fare'].median())\n",
        "\n",
        "# Replace missing 'Embarked' values with the most common port: 'S' (Southampton)\n",
        "test['Embarked'] = test['Embarked'].fillna('S')\n",
        "\n",
        "# Manually encode columns\n",
        "# Convert 'Sex' to numeric: male = 1, female = 0\n",
        "test['Sex'] = test['Sex'].map({'male': 1, 'female': 0})\n",
        "\n",
        "# Convert 'Embarked' to numeric: C = 0, Q = 1, S = 2\n",
        "test['Embarked'] = test['Embarked'].map({'C': 0, 'Q': 1, 'S': 2})\n",
        "\n",
        "# Drop unused columns\n",
        "columns_to_drop = ['Name', 'Ticket', 'Cabin', 'PassengerId']\n",
        "test_cleaned = test.drop(columns=[col for col in columns_to_drop if col in test.columns])\n",
        "\n",
        "# Use the trained Random Forest model to predict survival on the test set\n",
        "test_predictions = rf.predict(test_cleaned)\n",
        "\n",
        "# Create a DataFrame to hold the final output with PassengerId and predicted survival\n",
        "output = pd.DataFrame({\n",
        "    \"PassengerId\": test[\"PassengerId\"],  # assuming you didn't drop it earlier\n",
        "    \"Survived\": test_predictions\n",
        "})\n",
        "\n",
        "# First few rows\n",
        "# output.head()\n",
        "\n",
        "# Show the count of predicted survivors vs. non-survivors\n",
        "output['Survived'].value_counts()\n"
      ],
      "metadata": {
        "id": "jkP3rK_9IHi1",
        "colab": {
          "base_uri": "https://localhost:8080/",
          "height": 178
        },
        "outputId": "3405943a-4bc6-46ec-d270-1fd5ccd45db0"
      },
      "execution_count": 19,
      "outputs": [
        {
          "output_type": "execute_result",
          "data": {
            "text/plain": [
              "Survived\n",
              "0    264\n",
              "1    154\n",
              "Name: count, dtype: int64"
            ],
            "text/html": [
              "<div>\n",
              "<style scoped>\n",
              "    .dataframe tbody tr th:only-of-type {\n",
              "        vertical-align: middle;\n",
              "    }\n",
              "\n",
              "    .dataframe tbody tr th {\n",
              "        vertical-align: top;\n",
              "    }\n",
              "\n",
              "    .dataframe thead th {\n",
              "        text-align: right;\n",
              "    }\n",
              "</style>\n",
              "<table border=\"1\" class=\"dataframe\">\n",
              "  <thead>\n",
              "    <tr style=\"text-align: right;\">\n",
              "      <th></th>\n",
              "      <th>count</th>\n",
              "    </tr>\n",
              "    <tr>\n",
              "      <th>Survived</th>\n",
              "      <th></th>\n",
              "    </tr>\n",
              "  </thead>\n",
              "  <tbody>\n",
              "    <tr>\n",
              "      <th>0</th>\n",
              "      <td>264</td>\n",
              "    </tr>\n",
              "    <tr>\n",
              "      <th>1</th>\n",
              "      <td>154</td>\n",
              "    </tr>\n",
              "  </tbody>\n",
              "</table>\n",
              "</div><br><label><b>dtype:</b> int64</label>"
            ]
          },
          "metadata": {},
          "execution_count": 19
        }
      ]
    },
    {
      "cell_type": "markdown",
      "source": [
        "## Bonus Steps: Feature Importance\n"
      ],
      "metadata": {
        "id": "aPbUfBpGrAZT"
      }
    },
    {
      "cell_type": "code",
      "source": [
        "# Random Forest Feature Importances\n",
        "\n",
        "# Extract importance scores\n",
        "importances = rf.feature_importances_\n",
        "\n",
        "# Get feature names\n",
        "feature_names = X.columns\n",
        "\n",
        "# Create a DataFrame for easy visualization\n",
        "feat_imp_df = pd.DataFrame({'Feature': feature_names, 'Importance': importances})\n",
        "\n",
        "# Sort features by importance (most influential at the top)\n",
        "feat_imp_df = feat_imp_df.sort_values(by='Importance', ascending=False)\n",
        "\n",
        "# Plot the feature importances using a horizontal bar chart\n",
        "plt.figure(figsize=(8,5))\n",
        "sns.barplot(x='Importance', y='Feature', data=feat_imp_df)\n",
        "plt.title(\"Feature Importance (Random Forest)\")\n",
        "plt.show()\n"
      ],
      "metadata": {
        "id": "uLFPQ52TQi9F",
        "colab": {
          "base_uri": "https://localhost:8080/",
          "height": 487
        },
        "outputId": "9329fd79-16c3-4f8c-86e0-57f017c85199"
      },
      "execution_count": 20,
      "outputs": [
        {
          "output_type": "display_data",
          "data": {
            "text/plain": [
              "<Figure size 800x500 with 1 Axes>"
            ],
            "image/png": "[encoded data removed]"
          },
          "metadata": {}
        }
      ]
    },
    {
      "cell_type": "markdown",
      "source": [
        "## Bonus Step: Confusion Matrix"
      ],
      "metadata": {
        "id": "kZF-H7cUS7XV"
      }
    },
    {
      "cell_type": "code",
      "source": [
        "from sklearn.metrics import confusion_matrix, ConfusionMatrixDisplay\n",
        "\n",
        "# For Logistic Regression\n",
        "# Create a confusion matrix for the logistic regression model\n",
        "cm_log = confusion_matrix(y_val, y_pred_log)\n",
        "\n",
        "# Display the matrix with labeled axes\n",
        "disp_log = ConfusionMatrixDisplay(confusion_matrix=cm_log, display_labels=[\"Did Not Survive\", \"Survived\"])\n",
        "disp_log.plot(cmap='Blues')\n",
        "plt.title(\"Logistic Regression Confusion Matrix\")\n",
        "plt.show()\n",
        "\n",
        "# For Random Forest\n",
        "# Create a confusion matrix for the random forest model\n",
        "cm_rf = confusion_matrix(y_val, y_pred_rf)\n",
        "\n",
        "# Display the matrix with labeled axes\n",
        "disp_rf = ConfusionMatrixDisplay(confusion_matrix=cm_rf, display_labels=[\"Did Not Survive\", \"Survived\"])\n",
        "disp_rf.plot(cmap='Greens')\n",
        "plt.title(\"Random Forest Confusion Matrix\")\n",
        "plt.show()\n"
      ],
      "metadata": {
        "colab": {
          "base_uri": "https://localhost:8080/",
          "height": 927
        },
        "id": "Hkk6YW5XTI6K",
        "outputId": "c12bd1f8-bdb7-4c30-ddd3-5c7bce4298d5"
      },
      "execution_count": 21,
      "outputs": [
        {
          "output_type": "display_data",
          "data": {
            "text/plain": [
              "<Figure size 640x480 with 2 Axes>"
            ],
            "image/png": "[encoded data removed]"
          },
          "metadata": {}
        },
        {
          "output_type": "display_data",
          "data": {
            "text/plain": [
              "<Figure size 640x480 with 2 Axes>"
            ],
            "image/png": "[encoded data removed]"
          },
          "metadata": {}
        }
      ]
    },
    {
      "cell_type": "markdown",
      "source": [
        "## Bonus Step: ROC Curve"
      ],
      "metadata": {
        "id": "9Ul3iSMVTXR5"
      }
    },
    {
      "cell_type": "code",
      "source": [
        "from sklearn.metrics import roc_curve, auc\n",
        "\n",
        "# Probabilities\n",
        "# Get predicted probabilities for the positive class (Survived = 1)\n",
        "y_log_proba = logreg.predict_proba(X_val)[:, 1]\n",
        "y_rf_proba = rf.predict_proba(X_val)[:, 1]\n",
        "\n",
        "# ROC Curves\n",
        "# fpr: False Positive Rate, tpr: True Positive Rate\n",
        "fpr_log, tpr_log, _ = roc_curve(y_val, y_log_proba)\n",
        "fpr_rf, tpr_rf, _ = roc_curve(y_val, y_rf_proba)\n",
        "\n",
        "# Plot\n",
        "plt.figure(figsize=(8, 6))\n",
        "\n",
        "# Plot for Logistic Regression\n",
        "plt.plot(fpr_log, tpr_log, label='Logistic Regression')\n",
        "\n",
        "# Plot for Random Forest\n",
        "plt.plot(fpr_rf, tpr_rf, label='Random Forest')\n",
        "\n",
        "# Diagonal line for reference\n",
        "plt.plot([0, 1], [0, 1], 'k--')\n",
        "\n",
        "# Axis labels and title\n",
        "plt.xlabel('False Positive Rate')\n",
        "plt.ylabel('True Positive Rate')\n",
        "plt.title('ROC Curve Comparison')\n",
        "\n",
        "# Add legend to distinguish models\n",
        "plt.legend()\n",
        "plt.show()\n"
      ],
      "metadata": {
        "colab": {
          "base_uri": "https://localhost:8080/",
          "height": 564
        },
        "id": "vEw21XgsTaCJ",
        "outputId": "5fe49b98-9a78-4219-f0e6-201b8d5016c4"
      },
      "execution_count": 22,
      "outputs": [
        {
          "output_type": "display_data",
          "data": {
            "text/plain": [
              "<Figure size 800x600 with 1 Axes>"
            ],
            "image/png": "[encoded data removed]"
          },
          "metadata": {}
        }
      ]
    },
    {
      "cell_type": "markdown",
      "source": [
        "## Bonus Step: Gender-Based Baseline Comparison\n",
        "\n",
        "I included the `gender_submission.csv` predictions, which assume that all female passengers survived and all male passengers did not. This was provided by Kaggle for comparison.\n",
        "\n",
        "This will help evaluate whether my trained models gave a better prediction over a basic assumption.\n",
        "\n",
        "> Predict all **female passengers survived** and all **male passengers did not survive**.\n",
        "\n",
        "### Results:\n",
        "- **Accuracy:** 78.7%\n",
        "- **Precision (survived):** 74%\n",
        "- **Recall (survived):** 68%\n",
        "\n"
      ],
      "metadata": {
        "id": "12qYROkQU-m8"
      }
    },
    {
      "cell_type": "code",
      "source": [
        "gender_submission = pd.read_csv('/content/titanic/gender_submission.csv')\n",
        "gender_submission.head()\n"
      ],
      "metadata": {
        "colab": {
          "base_uri": "https://localhost:8080/",
          "height": 206
        },
        "id": "QjmXteoEV66p",
        "outputId": "49ff76b7-bd45-4252-c693-9cba59386e87"
      },
      "execution_count": 24,
      "outputs": [
        {
          "output_type": "execute_result",
          "data": {
            "text/plain": [
              "   PassengerId  Survived\n",
              "0          892         0\n",
              "1          893         1\n",
              "2          894         0\n",
              "3          895         0\n",
              "4          896         1"
            ],
            "text/html": [
              "\n",
              "  <div id=\"df-e01953f0-fe48-4786-8031-bd1a198879c8\" class=\"colab-df-container\">\n",
              "    <div>\n",
              "<style scoped>\n",
              "    .dataframe tbody tr th:only-of-type {\n",
              "        vertical-align: middle;\n",
              "    }\n",
              "\n",
              "    .dataframe tbody tr th {\n",
              "        vertical-align: top;\n",
              "    }\n",
              "\n",
              "    .dataframe thead th {\n",
              "        text-align: right;\n",
              "    }\n",
              "</style>\n",
              "<table border=\"1\" class=\"dataframe\">\n",
              "  <thead>\n",
              "    <tr style=\"text-align: right;\">\n",
              "      <th></th>\n",
              "      <th>PassengerId</th>\n",
              "      <th>Survived</th>\n",
              "    </tr>\n",
              "  </thead>\n",
              "  <tbody>\n",
              "    <tr>\n",
              "      <th>0</th>\n",
              "      <td>892</td>\n",
              "      <td>0</td>\n",
              "    </tr>\n",
              "    <tr>\n",
              "      <th>1</th>\n",
              "      <td>893</td>\n",
              "      <td>1</td>\n",
              "    </tr>\n",
              "    <tr>\n",
              "      <th>2</th>\n",
              "      <td>894</td>\n",
              "      <td>0</td>\n",
              "    </tr>\n",
              "    <tr>\n",
              "      <th>3</th>\n",
              "      <td>895</td>\n",
              "      <td>0</td>\n",
              "    </tr>\n",
              "    <tr>\n",
              "      <th>4</th>\n",
              "      <td>896</td>\n",
              "      <td>1</td>\n",
              "    </tr>\n",
              "  </tbody>\n",
              "</table>\n",
              "</div>\n",
              "    <div class=\"colab-df-buttons\">\n",
              "\n",
              "  <div class=\"colab-df-container\">\n",
              "    <button class=\"colab-df-convert\" onclick=\"convertToInteractive('df-e01953f0-fe48-4786-8031-bd1a198879c8')\"\n",
              "            title=\"Convert this dataframe to an interactive table.\"\n",
              "            style=\"display:none;\">\n",
              "\n",
              "  <svg xmlns=\"http://www.w3.org/2000/svg\" height=\"24px\" viewBox=\"0 -960 960 960\">\n",
              "    <path d=\"M120-120v-720h720v720H120Zm60-500h600v-160H180v160Zm220 220h160v-160H400v160Zm0 220h160v-160H400v160ZM180-400h160v-160H180v160Zm440 0h160v-160H620v160ZM180-180h160v-160H180v160Zm440 0h160v-160H620v160Z\"/>\n",
              "  </svg>\n",
              "    </button>\n",
              "\n",
              "  <style>\n",
              "    .colab-df-container {\n",
              "      display:flex;\n",
              "      gap: 12px;\n",
              "    }\n",
              "\n",
              "    .colab-df-convert {\n",
              "      background-color: #E8F0FE;\n",
              "      border: none;\n",
              "      border-radius: 50%;\n",
              "      cursor: pointer;\n",
              "      display: none;\n",
              "      fill: #1967D2;\n",
              "      height: 32px;\n",
              "      padding: 0 0 0 0;\n",
              "      width: 32px;\n",
              "    }\n",
              "\n",
              "    .colab-df-convert:hover {\n",
              "      background-color: #E2EBFA;\n",
              "      box-shadow: 0px 1px 2px rgba(60, 64, 67, 0.3), 0px 1px 3px 1px rgba(60, 64, 67, 0.15);\n",
              "      fill: #174EA6;\n",
              "    }\n",
              "\n",
              "    .colab-df-buttons div {\n",
              "      margin-bottom: 4px;\n",
              "    }\n",
              "\n",
              "    [theme=dark] .colab-df-convert {\n",
              "      background-color: #3B4455;\n",
              "      fill: #D2E3FC;\n",
              "    }\n",
              "\n",
              "    [theme=dark] .colab-df-convert:hover {\n",
              "      background-color: #434B5C;\n",
              "      box-shadow: 0px 1px 3px 1px rgba(0, 0, 0, 0.15);\n",
              "      filter: drop-shadow(0px 1px 2px rgba(0, 0, 0, 0.3));\n",
              "      fill: #FFFFFF;\n",
              "    }\n",
              "  </style>\n",
              "\n",
              "    <script>\n",
              "      const buttonEl =\n",
              "        document.querySelector('#df-e01953f0-fe48-4786-8031-bd1a198879c8 button.colab-df-convert');\n",
              "      buttonEl.style.display =\n",
              "        google.colab.kernel.accessAllowed ? 'block' : 'none';\n",
              "\n",
              "      async function convertToInteractive(key) {\n",
              "        const element = document.querySelector('#df-e01953f0-fe48-4786-8031-bd1a198879c8');\n",
              "        const dataTable =\n",
              "          await google.colab.kernel.invokeFunction('convertToInteractive',\n",
              "                                                    [key], {});\n",
              "        if (!dataTable) return;\n",
              "\n",
              "        const docLinkHtml = 'Like what you see? Visit the ' +\n",
              "          '<a target=\"_blank\" href=https://colab.research.google.com/notebooks/data_table.ipynb>data table notebook</a>'\n",
              "          + ' to learn more about interactive tables.';\n",
              "        element.innerHTML = '';\n",
              "        dataTable['output_type'] = 'display_data';\n",
              "        await google.colab.output.renderOutput(dataTable, element);\n",
              "        const docLink = document.createElement('div');\n",
              "        docLink.innerHTML = docLinkHtml;\n",
              "        element.appendChild(docLink);\n",
              "      }\n",
              "    </script>\n",
              "  </div>\n",
              "\n",
              "\n",
              "    <div id=\"df-35d92d2e-6de7-4c39-aef5-a5510d2918a3\">\n",
              "      <button class=\"colab-df-quickchart\" onclick=\"quickchart('df-35d92d2e-6de7-4c39-aef5-a5510d2918a3')\"\n",
              "                title=\"Suggest charts\"\n",
              "                style=\"display:none;\">\n",
              "\n",
              "<svg xmlns=\"http://www.w3.org/2000/svg\" height=\"24px\"viewBox=\"0 0 24 24\"\n",
              "     width=\"24px\">\n",
              "    <g>\n",
              "        <path d=\"M19 3H5c-1.1 0-2 .9-2 2v14c0 1.1.9 2 2 2h14c1.1 0 2-.9 2-2V5c0-1.1-.9-2-2-2zM9 17H7v-7h2v7zm4 0h-2V7h2v10zm4 0h-2v-4h2v4z\"/>\n",
              "    </g>\n",
              "</svg>\n",
              "      </button>\n",
              "\n",
              "<style>\n",
              "  .colab-df-quickchart {\n",
              "      --bg-color: #E8F0FE;\n",
              "      --fill-color: #1967D2;\n",
              "      --hover-bg-color: #E2EBFA;\n",
              "      --hover-fill-color: #174EA6;\n",
              "      --disabled-fill-color: #AAA;\n",
              "      --disabled-bg-color: #DDD;\n",
              "  }\n",
              "\n",
              "  [theme=dark] .colab-df-quickchart {\n",
              "      --bg-color: #3B4455;\n",
              "      --fill-color: #D2E3FC;\n",
              "      --hover-bg-color: #434B5C;\n",
              "      --hover-fill-color: #FFFFFF;\n",
              "      --disabled-bg-color: #3B4455;\n",
              "      --disabled-fill-color: #666;\n",
              "  }\n",
              "\n",
              "  .colab-df-quickchart {\n",
              "    background-color: var(--bg-color);\n",
              "    border: none;\n",
              "    border-radius: 50%;\n",
              "    cursor: pointer;\n",
              "    display: none;\n",
              "    fill: var(--fill-color);\n",
              "    height: 32px;\n",
              "    padding: 0;\n",
              "    width: 32px;\n",
              "  }\n",
              "\n",
              "  .colab-df-quickchart:hover {\n",
              "    background-color: var(--hover-bg-color);\n",
              "    box-shadow: 0 1px 2px rgba(60, 64, 67, 0.3), 0 1px 3px 1px rgba(60, 64, 67, 0.15);\n",
              "    fill: var(--button-hover-fill-color);\n",
              "  }\n",
              "\n",
              "  .colab-df-quickchart-complete:disabled,\n",
              "  .colab-df-quickchart-complete:disabled:hover {\n",
              "    background-color: var(--disabled-bg-color);\n",
              "    fill: var(--disabled-fill-color);\n",
              "    box-shadow: none;\n",
              "  }\n",
              "\n",
              "  .colab-df-spinner {\n",
              "    border: 2px solid var(--fill-color);\n",
              "    border-color: transparent;\n",
              "    border-bottom-color: var(--fill-color);\n",
              "    animation:\n",
              "      spin 1s steps(1) infinite;\n",
              "  }\n",
              "\n",
              "  @keyframes spin {\n",
              "    0% {\n",
              "      border-color: transparent;\n",
              "      border-bottom-color: var(--fill-color);\n",
              "      border-left-color: var(--fill-color);\n",
              "    }\n",
              "    20% {\n",
              "      border-color: transparent;\n",
              "      border-left-color: var(--fill-color);\n",
              "      border-top-color: var(--fill-color);\n",
              "    }\n",
              "    30% {\n",
              "      border-color: transparent;\n",
              "      border-left-color: var(--fill-color);\n",
              "      border-top-color: var(--fill-color);\n",
              "      border-right-color: var(--fill-color);\n",
              "    }\n",
              "    40% {\n",
              "      border-color: transparent;\n",
              "      border-right-color: var(--fill-color);\n",
              "      border-top-color: var(--fill-color);\n",
              "    }\n",
              "    60% {\n",
              "      border-color: transparent;\n",
              "      border-right-color: var(--fill-color);\n",
              "    }\n",
              "    80% {\n",
              "      border-color: transparent;\n",
              "      border-right-color: var(--fill-color);\n",
              "      border-bottom-color: var(--fill-color);\n",
              "    }\n",
              "    90% {\n",
              "      border-color: transparent;\n",
              "      border-bottom-color: var(--fill-color);\n",
              "    }\n",
              "  }\n",
              "</style>\n",
              "\n",
              "      <script>\n",
              "        async function quickchart(key) {\n",
              "          const quickchartButtonEl =\n",
              "            document.querySelector('#' + key + ' button');\n",
              "          quickchartButtonEl.disabled = true;  // To prevent multiple clicks.\n",
              "          quickchartButtonEl.classList.add('colab-df-spinner');\n",
              "          try {\n",
              "            const charts = await google.colab.kernel.invokeFunction(\n",
              "                'suggestCharts', [key], {});\n",
              "          } catch (error) {\n",
              "            console.error('Error during call to suggestCharts:', error);\n",
              "          }\n",
              "          quickchartButtonEl.classList.remove('colab-df-spinner');\n",
              "          quickchartButtonEl.classList.add('colab-df-quickchart-complete');\n",
              "        }\n",
              "        (() => {\n",
              "          let quickchartButtonEl =\n",
              "            document.querySelector('#df-35d92d2e-6de7-4c39-aef5-a5510d2918a3 button');\n",
              "          quickchartButtonEl.style.display =\n",
              "            google.colab.kernel.accessAllowed ? 'block' : 'none';\n",
              "        })();\n",
              "      </script>\n",
              "    </div>\n",
              "\n",
              "    </div>\n",
              "  </div>\n"
            ],
            "application/vnd.google.colaboratory.intrinsic+json": {
              "type": "dataframe",
              "variable_name": "gender_submission",
              "summary": "{\n  \"name\": \"gender_submission\",\n  \"rows\": 418,\n  \"fields\": [\n    {\n      \"column\": \"PassengerId\",\n      \"properties\": {\n        \"dtype\": \"number\",\n        \"std\": 120,\n        \"min\": 892,\n        \"max\": 1309,\n        \"num_unique_values\": 418,\n        \"samples\": [\n          1213,\n          1216,\n          1280\n        ],\n        \"semantic_type\": \"\",\n        \"description\": \"\"\n      }\n    },\n    {\n      \"column\": \"Survived\",\n      \"properties\": {\n        \"dtype\": \"number\",\n        \"std\": 0,\n        \"min\": 0,\n        \"max\": 1,\n        \"num_unique_values\": 2,\n        \"samples\": [\n          1,\n          0\n        ],\n        \"semantic_type\": \"\",\n        \"description\": \"\"\n      }\n    }\n  ]\n}"
            }
          },
          "metadata": {},
          "execution_count": 24
        }
      ]
    },
    {
      "cell_type": "code",
      "source": [
        "# Compare if you had true labels:\n",
        "merged = test[['PassengerId', 'Sex']].copy()\n",
        "merged['GenderBasedPrediction'] = merged['Sex'].map({'male': 0, 'female': 1})\n"
      ],
      "metadata": {
        "id": "KQfBrp4qWEvC"
      },
      "execution_count": 28,
      "outputs": []
    },
    {
      "cell_type": "code",
      "source": [
        "# Copy the training data\n",
        "baseline = train[['Sex', 'Survived']].copy()\n",
        "\n",
        "# Simulate the gender rule: predict all females survived, males did not\n",
        "baseline['GenderBasedPrediction'] = baseline['Sex'].map({1: 0, 0: 1})  # 1 = male, 0 = female\n",
        "\n",
        "# Evaluate baseline\n",
        "from sklearn.metrics import accuracy_score, classification_report\n",
        "\n",
        "print(\"Gender Rule Accuracy (on training set):\", accuracy_score(baseline['Survived'], baseline['GenderBasedPrediction']))\n",
        "print(classification_report(baseline['Survived'], baseline['GenderBasedPrediction']))\n",
        "\n"
      ],
      "metadata": {
        "colab": {
          "base_uri": "https://localhost:8080/"
        },
        "id": "16aZ_HtiWKEB",
        "outputId": "8b488fb6-3e75-4789-8c44-408059421f22"
      },
      "execution_count": 29,
      "outputs": [
        {
          "output_type": "stream",
          "name": "stdout",
          "text": [
            "Gender Rule Accuracy (on training set): 0.7867564534231201\n",
            "              precision    recall  f1-score   support\n",
            "\n",
            "           0       0.81      0.85      0.83       549\n",
            "           1       0.74      0.68      0.71       342\n",
            "\n",
            "    accuracy                           0.79       891\n",
            "   macro avg       0.78      0.77      0.77       891\n",
            "weighted avg       0.78      0.79      0.78       891\n",
            "\n"
          ]
        }
      ]
    },
    {
      "cell_type": "markdown",
      "source": [
        "## Analysis and Interpretation\n",
        "\n",
        "After completing data preprocessing and model training, I evaluated the models used: **Logistic Regression** and **Random Forest Classifier**.\n",
        "\n",
        "### Model Performance\n",
        "\n",
        "- **Logistic Regression**\n",
        "  - Accuracy: *~79%*\n",
        "  - Strengths: Fast training time and was easy to understand how each feature affected survival.\n",
        "  - Weaknesses: Less effective with complex feature interactions\n",
        "\n",
        "- **Random Forest**\n",
        "  - Accuracy: *~84%*\n",
        "  - Strengths: Handles nonlinear patterns, less likely to overfit with correct parameters\n",
        "  - Weaknesses: Harder to understand compared to logistic regression\n",
        "\n",
        "Random Forest outperformed Logistic Regression in both accuracy and recall, such as correctly identifying survivors. This suggests that the ensemble method was able to capture more complex relationships in the data (e.g., interactions between class, age, and fare).\n",
        "\n",
        "---\n",
        "\n",
        "### Feature Importance\n",
        "\n",
        "From the Random Forest model, the most important features contributing to survival prediction were:\n",
        "1. **Sex** — Female passengers had significantly higher survival rates\n",
        "2. **Pclass** — Passengers in 1st class had much higher survival rates than those in 3rd\n",
        "3. **Fare** — Higher fare passengers were more likely to survive\n",
        "4. **Age** — Younger passengers had slightly higher survival probabilities\n",
        "\n",
        "These findings align with historical knowledge of the Titanic disaster — priority was given to women and children, and wealthier passengers (often in 1st class) had better access to lifeboats.\n",
        "\n",
        "---\n",
        "\n",
        "### Baseline Comparison\n",
        "\n",
        "I also evaluated the simple gender-based baseline provided by Kaggle, which predicts:\n",
        "> All **female** passengers survived; all **male** passengers did not.\n",
        "\n",
        "This naive rule achieved an accuracy of **~78.7%**, which is surprisingly competitive. However, it lacks nuance and fails to consider other influential features like age, fare, and class. My models improve on this rule by offering greater precision and generalization.\n",
        "\n",
        "---\n",
        "\n",
        "\n"
      ],
      "metadata": {
        "id": "KNZS4nVCZaf1"
      }
    },
    {
      "cell_type": "markdown",
      "source": [
        "## Final Summary\n",
        "\n",
        "I used the Titanic dataset for the final project. The main goal behind it is to predict passenger survival using ML techniques. I completed exploratory data analysis, handled missing values, and encoded categorical features. Two models were trained and compared: Logistic Regression and Random Forest.\n",
        "\n",
        "- Logistic Regression provided a solid baseline.\n",
        "- Random Forest performed slightly better and provided insight into feature importance.\n",
        "\n",
        "Key takeaways:\n",
        "- `Sex` and `Pclass` were strong decision makers for survival.\n",
        "- Passengers in 1st class and females had the highest survival rates.\n",
        "- The size of a family & fare amount also contributed to predictions.\n",
        "\n",
        "I believe this final project showcases a complete end-to-end ML pipeline with it's data cleaning to prediction.\n"
      ],
      "metadata": {
        "id": "rBQmZv4iTjGD"
      }
    }
  ]
}